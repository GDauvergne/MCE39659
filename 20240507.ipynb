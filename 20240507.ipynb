{
 "cells": [
  {
   "cell_type": "markdown",
   "metadata": {},
   "source": [
    "# Exercises\n",
    "\n",
    "Create a function out-place of \n",
    "Create a function in-place of \n",
    "Create a grid of x and y of dimension N=100 and evaluate the functions.\n",
    "Test if the results are the same (\n",
    ") and the performance (@btime and @time)."
   ]
  },
  {
   "cell_type": "code",
   "execution_count": 28,
   "metadata": {},
   "outputs": [
    {
     "data": {
      "text/plain": [
       "true"
      ]
     },
     "metadata": {},
     "output_type": "display_data"
    }
   ],
   "source": [
    "function f1(x, y, a =1, b=1)\n",
    "    return (a .-  x).^2 .+ b.*(y).^2 \n",
    "end\n",
    "\n",
    "function f2!(out, x, y, a =1, b=1)\n",
    "    out .= (a .-  x).^2 .+ b.*(y).^2 \n",
    "end\n",
    "\n",
    "# a = 1 # Global\n",
    "# b = 1 # Global\n",
    "# x = 1 # Local\n",
    "# y = 1 # Local \n",
    "# Evitar variables globales \n",
    "\n",
    "\n",
    "x = 1 ; y = 1 ; out = 0\n",
    "x = rand(10) ; y = rand(10) ; out = similar(x)\n",
    "\n",
    "f1(x,y) ≈ f2!(out, x,  y )"
   ]
  },
  {
   "cell_type": "code",
   "execution_count": 23,
   "metadata": {},
   "outputs": [
    {
     "data": {
      "text/plain": [
       "f2! (generic function with 3 methods)"
      ]
     },
     "metadata": {},
     "output_type": "display_data"
    }
   ],
   "source": [
    "function f2!(out,x,y,a =1, b=1)\n",
    "    out .= (a .-  x).^2 .+ b.*(y).^2 \n",
    "end\n",
    "\n",
    "N = 100\n",
    "x = 10 #range(0, N)\n",
    "y = 10 #randn(0,N)\n",
    "\n",
    "f2!"
   ]
  },
  {
   "cell_type": "code",
   "execution_count": 37,
   "metadata": {},
   "outputs": [
    {
     "name": "stdout",
     "output_type": "stream",
     "text": [
      "  65.933 ns (5 allocations: 176 bytes)\n"
     ]
    },
    {
     "data": {
      "text/plain": [
       "10-element Vector{Float64}:\n",
       " 0.14402926857200718\n",
       " 0.17961328061855175\n",
       " 0.29988524492066315\n",
       " 0.1401783717413243\n",
       " 1.0147546868460624\n",
       " 0.5365930567962194\n",
       " 0.42788007346993273\n",
       " 0.19844309551856532\n",
       " 0.7280287845681497\n",
       " 0.7142248442413728"
      ]
     },
     "metadata": {},
     "output_type": "display_data"
    }
   ],
   "source": [
    "using BenchmarkTools\n",
    "@btime f1(x,y)"
   ]
  }
 ],
 "metadata": {
  "kernelspec": {
   "display_name": "Julia 1.10.2",
   "language": "julia",
   "name": "julia-1.10"
  },
  "language_info": {
   "file_extension": ".jl",
   "mimetype": "application/julia",
   "name": "julia",
   "version": "1.10.2"
  }
 },
 "nbformat": 4,
 "nbformat_minor": 2
}
